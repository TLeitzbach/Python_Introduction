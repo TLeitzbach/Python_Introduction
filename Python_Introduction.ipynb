{
 "cells": [
  {
   "cell_type": "markdown",
   "metadata": {
    "colab_type": "text",
    "id": "view-in-github"
   },
   "source": [
    "<a href=\"https://colab.research.google.com/github/TLeitzbach/Python_Introduction/blob/main/Python_Introduction.ipynb\" target=\"_parent\"><img src=\"https://colab.research.google.com/assets/colab-badge.svg\" alt=\"Open In Colab\"/></a>"
   ]
  },
  {
   "cell_type": "markdown",
   "metadata": {
    "id": "nThts0i3S99v"
   },
   "source": [
    "# **Introduction to Python**"
   ]
  },
  {
   "cell_type": "markdown",
   "metadata": {
    "id": "W62UD8Ff8iMD"
   },
   "source": [
    "<p><img alt=\"TA logo\" height=\"60px\" src=\"https://drive.google.com/uc?id=1pxumwPfsX5h65Zo508BVYw0xeQfUgWQC\" align=\"left\" hspace=\"10px\" vspace=\"5px\"> \n",
    "<img alt=\"yPthon logo\" height=\"80px\" src=\"https://drive.google.com/uc?id=1OnSEfuGRP6w1P2S5XmcoC1L2t3oALeYY\" align=\"left\" hspace=\"10px\" vspace=\"5px\"></p>\n",
    "\n"
   ]
  },
  {
   "cell_type": "code",
   "execution_count": null,
   "metadata": {
    "id": "YWpNoOZLPA7Z"
   },
   "outputs": [],
   "source": [
    "# take the variable x to which we assign a string (object)\n",
    "\n",
    "x = \"Hello\"\n",
    "print(x)\n",
    "\n",
    "# Without any effort we may reassign this variable to an integer\n",
    "\n",
    "x = 2  # Note that this, while practical, creates room for errors\n",
    "print(x)\n",
    "\n",
    "# As a matter of fact, this is nothing to take for granted static typing like in C++ (e.g. int myNum = 15;) is very common"
   ]
  },
  {
   "cell_type": "markdown",
   "metadata": {
    "id": "3m-f3PBHTGd6"
   },
   "source": [
    "## **Syntax**"
   ]
  },
  {
   "cell_type": "markdown",
   "metadata": {
    "id": "NVM-R15G1kPy"
   },
   "source": [
    "### Data Types and Operators"
   ]
  },
  {
   "cell_type": "markdown",
   "metadata": {
    "id": "9hL11umH2B8-"
   },
   "source": [
    "#### Strings, Ints, float ..."
   ]
  },
  {
   "cell_type": "code",
   "execution_count": null,
   "metadata": {
    "id": "dmYQKS262CFZ"
   },
   "outputs": [],
   "source": [
    "\"\"\"Let's start with some classics, we already saw (classes and) functions.\"\"\"\n",
    "\n",
    "# I am a comment\n",
    "\n",
    "\n",
    "\"\"\"\n",
    "I'm\n",
    "a block (multi-line)\n",
    "comment\n",
    "\"\"\"\n",
    "\n",
    "\n",
    "print(\"I print.\")\n",
    "\n",
    "\n",
    "x = 2  # LHS variable, Middle assign operator, RHS the object assigned to LHS\n",
    "\n",
    "# 2 = x  # Raises SyntaxError\n",
    "\n",
    "\n",
    "x = \"String\"\n",
    "\n",
    "x = 'Also a String'\n",
    "\n",
    "# x = \"Not working'  # Raises SyntaxError\n",
    "\n",
    "\n",
    "x = 2       # No need to indicate a line break with \";\" -> x = 2; is the same \n",
    "x = int(2)\n",
    "\n",
    "\n",
    "x = 1.5\n",
    "x = float(1.5)\n",
    "\n",
    "# Conversion with str(), int(), float()\n",
    "\n",
    "\n",
    "x = 10    \n",
    "b = \"15\"\n",
    "\n",
    "# x += b  # raises TypeError\n",
    "\n",
    "\n",
    "\"\"\"Operators\"\"\"\n",
    "x += int(b)  # is the same as x = x + int(b)\n",
    "print(x)\n",
    "\n",
    "b += str(x)  # is the same as b = b + str(x)\n",
    "print(b)     \n"
   ]
  },
  {
   "cell_type": "markdown",
   "metadata": {
    "id": "E1Dwzy_E11EA"
   },
   "source": [
    "#### Lists"
   ]
  },
  {
   "cell_type": "code",
   "execution_count": null,
   "metadata": {
    "id": "zv5eTd9T1qEl"
   },
   "outputs": [],
   "source": [
    "list() == []  # Evaluates as True\n",
    "\n",
    "tracks = [\"Python\", \"R\", \"Web Development\"]\n",
    "\n",
    "# indexing\n",
    "print(\"1st: \" + tracks[0])           # Index starts at 0!!!\n",
    "print(\"Last: \" + tracks[-1])         # last element\n",
    "print(\"All: \" + str(tracks[:]))\n",
    "print(\"1st to 2nd: \" + str(tracks[0:2]))  # RHS of ':' not included!"
   ]
  },
  {
   "cell_type": "code",
   "execution_count": null,
   "metadata": {
    "id": "dU5ZFxdhrM3A"
   },
   "outputs": [],
   "source": [
    "# Note that a string can be used like a list of characters!\n",
    "\n",
    "wow = \"4M4ZING\"\n",
    "wow[0]  # 0-indexed!\n",
    " "
   ]
  },
  {
   "cell_type": "code",
   "execution_count": null,
   "metadata": {
    "id": "a3LZLz1qso5O"
   },
   "outputs": [],
   "source": [
    "# modify a given list\n",
    "tracks[1] = \"Useless\" \n",
    "\n",
    "print(tracks)"
   ]
  },
  {
   "cell_type": "markdown",
   "metadata": {
    "id": "y7LiJ7GZ13-t"
   },
   "source": [
    "#### Dictionaries"
   ]
  },
  {
   "cell_type": "code",
   "execution_count": null,
   "metadata": {
    "id": "M_x4m4y214g3"
   },
   "outputs": [],
   "source": [
    "\n",
    "x = 100\n",
    "dct = {                 # a dictionary saves key value pairs\n",
    "    \"Key1\": \"Value1\",\n",
    "    2: str,           # functional programming: We can store anything!\n",
    "    5: x,\n",
    "}\n",
    "\n",
    "print(dct.keys())\n",
    "print(dct.values())"
   ]
  },
  {
   "cell_type": "markdown",
   "metadata": {},
   "source": [
    "### Dynamically Typed\n",
    "\n",
    "Dynamic Typing means that the type of an object may be changed during runtime"
   ]
  },
  {
   "cell_type": "code",
   "execution_count": null,
   "metadata": {},
   "outputs": [],
   "source": [
    "x = \"Hello\" # take the variable x to which we assign a string (object)\n",
    "\n",
    "print(x)\n",
    "\n",
    "# Without any effort we may reassign this variable to an integer\n",
    "\n",
    "x = 2  # Note that this, while practical, creates room for errors\n",
    "print(x)\n",
    "\n",
    "# As a matter of fact, this is nothing to take for granted static typing like in C++ (e.g. int myNum = 15;) is very common"
   ]
  },
  {
   "cell_type": "markdown",
   "metadata": {
    "id": "lT82ffMbqNgG"
   },
   "source": [
    "### Conditions"
   ]
  },
  {
   "cell_type": "code",
   "execution_count": null,
   "metadata": {
    "id": "3zHn1douqM2S"
   },
   "outputs": [],
   "source": [
    "age = 12\n",
    "\n",
    "if age == 0:\n",
    "  print(\"You are a baby.\")\n",
    "\n",
    "elif age < 12:\n",
    "  print(\"You should not watch James Bond movies FSK 12 alone.\")\n",
    "\n",
    "elif 12 <= age < 16:\n",
    "  print(\"Puberty hits hard.\")\n",
    "\n",
    "elif 16 <= age < 18:\n",
    "  print(\"You can stay outside longer than 10 pm, you can buy beer and wine legally.\")\n",
    "\n",
    "else:\n",
    "  print(\"You are a free elf!\")"
   ]
  },
  {
   "cell_type": "markdown",
   "metadata": {
    "id": "AU0qnfnhsO5L"
   },
   "source": [
    "### Loops"
   ]
  },
  {
   "cell_type": "code",
   "execution_count": null,
   "metadata": {
    "id": "94RgEd9-sPIJ"
   },
   "outputs": [],
   "source": [
    "\"\"\"for-loop\"\"\"\n",
    "\n",
    "arr = [1,2,3]\n",
    "\n",
    "for i in arr:\n",
    "    print(arr)\n",
    "\n",
    "\"\"\"while-loop\"\"\"\n",
    "\n",
    "counter = 10\n",
    "\n",
    "while counter > 0:\n",
    "  print(f\"Oh man, still {counter - 1} iterations to go ...\")\n",
    "  counter -= 1\n"
   ]
  },
  {
   "cell_type": "markdown",
   "metadata": {},
   "source": [
    "### Numpy\n",
    "\n",
    "NumPy (Numerical Python) is an open source Python library that’s used in almost every field of science and engineering.\n",
    "- universal standard for working with numerical data in Python\n",
    "- contains multidimensional array and matrix data structures\n",
    "- allows for very efficient matrix operations on nd Arrays (think 2d, 3d, ... Nd) \n",
    "- much faster / better than a simple for-loop we saw earlier"
   ]
  },
  {
   "cell_type": "code",
   "execution_count": null,
   "metadata": {},
   "outputs": [],
   "source": [
    "# Let's do the same thing with plain python and with numpy vectors\n",
    "\n",
    "list_data = [[1,2,3], [4,5,6], [7,8,9]]\n",
    "list_data1 = [[1,2,3], [4,5,6], [7,8,9]]\n",
    "\n",
    "list_data + list_data1"
   ]
  },
  {
   "cell_type": "code",
   "execution_count": null,
   "metadata": {},
   "outputs": [],
   "source": [
    "for i, sub_list in enumerate(list_data):\n",
    "    for j, num in enumerate(sub_list):\n",
    "        list_data1[i][j] += num\n",
    "        \n",
    "list_data1"
   ]
  },
  {
   "cell_type": "code",
   "execution_count": null,
   "metadata": {},
   "outputs": [],
   "source": [
    "import numpy as np # using np alias is industry standard\n",
    "\n",
    "np_data = np.array([[1,2,3], [4,5,6], [7,8,9]]) # create np array\n",
    "np_data1 = np.array([[1,2,3], [4,5,6], [7,8,9]]) # create another np array\n",
    "\n",
    "np_data + np_data1"
   ]
  },
  {
   "cell_type": "markdown",
   "metadata": {
    "id": "jTOP3ZC7Elk8"
   },
   "source": [
    "## Packages"
   ]
  },
  {
   "cell_type": "code",
   "execution_count": null,
   "metadata": {
    "id": "gMJKr8n2Eowt"
   },
   "outputs": [],
   "source": [
    "!pip list"
   ]
  },
  {
   "cell_type": "code",
   "execution_count": null,
   "metadata": {
    "id": "n8e4gRPYLtYW"
   },
   "outputs": [],
   "source": [
    "!pip list -v | grep [Pp]andas"
   ]
  },
  {
   "cell_type": "code",
   "execution_count": null,
   "metadata": {
    "id": "GNZkqC2tLuAK"
   },
   "outputs": [],
   "source": [
    "!pip uninstall torchtext"
   ]
  },
  {
   "cell_type": "code",
   "execution_count": null,
   "metadata": {
    "id": "kreu3zGOMRSd"
   },
   "outputs": [],
   "source": [
    "!pip install torchtext"
   ]
  },
  {
   "cell_type": "code",
   "execution_count": null,
   "metadata": {
    "id": "UGDc7cEANJ9T"
   },
   "outputs": [],
   "source": [
    "import pandas\n",
    "# pandas.core.frame.DataFrame"
   ]
  },
  {
   "cell_type": "code",
   "execution_count": null,
   "metadata": {
    "id": "kjMHwJbVNaKP"
   },
   "outputs": [],
   "source": [
    "# much more common\n",
    "import pandas as pd  # pd is an unofficial alias (can be almost arbitrary tho, e.g. pdddddddd)\n",
    "pd.DataFrame"
   ]
  },
  {
   "cell_type": "markdown",
   "metadata": {
    "id": "zgPsHTqHTxoN"
   },
   "source": [
    "# **Problems**\n",
    "\n",
    "You can do the numbered problems in any given order (I think). It is encouraged to ask the other workshop participants in case you are stuck or unsure about what a problem is aiming for."
   ]
  },
  {
   "cell_type": "code",
   "execution_count": null,
   "metadata": {
    "id": "QuRHZ82kVEqo"
   },
   "outputs": [],
   "source": [
    "# 1\n",
    "\"\"\"\n",
    "Extract every 2nd item of the following list, but only if that item is a string and \n",
    "save this sublist under a new name.\n",
    "\"\"\"\n",
    "\n",
    "lista = [\n",
    "         1, 3, \"Hey\", \"Did you\", 5, {}, \"know that\", \"we are going\", 7.6, list(), \"to some bars after this?\",\n",
    "         ]\n"
   ]
  },
  {
   "cell_type": "code",
   "execution_count": null,
   "metadata": {
    "id": "ZPKo5dziBHL5"
   },
   "outputs": [],
   "source": [
    "# 2a\n",
    "\"\"\"\n",
    "A lot of your coding experience will be googling and reading StackOverflow entries\n",
    "or some library's documentation.\n",
    "\n",
    "Now, search for the documentation of the Python package \"pandas\" and create\n",
    "a DataFrame with the 2 column names below and fill them with the sample data provided.\n",
    "Note that you will have to import the package and access the right method / create\n",
    "the right class instance.\n",
    "\"\"\"\n",
    "\n",
    "col_names = [\"Name\", \"Profession\"]\n",
    "sample_data = {\n",
    "    \"Name\": [\"George\", \"Martin\", \"Sarah\", \"Wilhelm\", \"Emma\", \"Lara\"],\n",
    "    \"Profession\": [\"Student\", \"Unemployed\", \"Student\", \"Tired\", \"Software Engineer\", \"Priest\"]\n",
    "    }"
   ]
  },
  {
   "cell_type": "code",
   "execution_count": null,
   "metadata": {
    "id": "L2wD-iGJk2Ks"
   },
   "outputs": [],
   "source": [
    "# 2b\n",
    "\"\"\"\n",
    "The data contained the name \"Sarah\" but a fellow student corrects you that she is spelled \n",
    "\"Sara\" - Correct the DataFrame entry inplace (not the dictionary ;)) , that is \n",
    "without saving it as a new variable.\n",
    "\"\"\""
   ]
  },
  {
   "cell_type": "code",
   "execution_count": null,
   "metadata": {
    "id": "fZ3NSupMl80T"
   },
   "outputs": [],
   "source": [
    "# 2c\n",
    "\"\"\"\n",
    "Another student suggests that a new column with the people's age would be interesting.\n",
    "Because you signed up for this workshop, you make sure to add a column \"age\" with\n",
    "made up data of type int.\n",
    "\"\"\""
   ]
  },
  {
   "cell_type": "code",
   "execution_count": null,
   "metadata": {},
   "outputs": [],
   "source": [
    "# 3a\n",
    "\"\"\"\n",
    "We are now going to do some numpy operations. \n",
    "Create a one-dimensional numpy array with the values from 1 to 9.\n",
    "\n",
    "Harder: Create the numpy array without specifying every number.\n",
    "\"\"\"\n",
    "\n"
   ]
  },
  {
   "cell_type": "code",
   "execution_count": null,
   "metadata": {},
   "outputs": [],
   "source": [
    "# 3b\n",
    "\"\"\"\n",
    "Create a 3x3 matrix your previous 1d numpy array (1d numpy array's are also called vectors)\n",
    "\"\"\"\n",
    "\n"
   ]
  },
  {
   "cell_type": "code",
   "execution_count": null,
   "metadata": {},
   "outputs": [],
   "source": [
    "# 3c (Advanced)\n",
    "\"\"\"\n",
    "Add this vector to the 3x3 matrix and observe!\n",
    "What happened?\n",
    "\"\"\"\n",
    "\n",
    "vec = np.array([1,2,3])"
   ]
  },
  {
   "cell_type": "code",
   "execution_count": null,
   "metadata": {
    "id": "wWU2nVukmrBD"
   },
   "outputs": [],
   "source": [
    "# 4\n",
    "\"\"\"\n",
    "Because you have to write the following stupid command a 100 times for different\n",
    "dates you decide to write a function for it, great idea!\n",
    "After you have written the function, call it with the right arguments to get \n",
    "the following output: \"Today is the 01.01.2100!\"\n",
    "\"\"\"\n",
    "\n",
    "date = \"Today is the 17.11.2021!\"\n",
    "print(date)\n",
    "\n"
   ]
  },
  {
   "cell_type": "code",
   "execution_count": null,
   "metadata": {
    "id": "_yiJT-Xgp0w9"
   },
   "outputs": [],
   "source": [
    "# 5\n",
    "\"\"\"\n",
    "You really want to visualize this crazy time series down belo.\n",
    "In fact, you decide to show your friends a line chart of it.\n",
    "Look into the documentation of matplotlib to find out how to execute your plan\n",
    "and experiment with a few options.\n",
    "\"\"\"\n",
    "import datetime\n",
    "from random import randrange\n",
    "\n",
    "base = datetime.datetime.today()\n",
    "date_list = [base - datetime.timedelta(days=x) for x in range(200)]\n",
    "data = {\n",
    "    \"Date\": date_list,\n",
    "    \"Values\": [randrange(i) for i in range(1, 201)]\n",
    "}\n",
    "\n",
    "df = pd.DataFrame(data)\n",
    "df[\"Date\"] = pd.to_datetime(df.Date)\n",
    "print(df)"
   ]
  },
  {
   "cell_type": "code",
   "execution_count": null,
   "metadata": {},
   "outputs": [],
   "source": [
    "# 6\n",
    "'''\n",
    "Interestingly, many packages do similar things. \n",
    "Another really common package is seaborn.\n",
    "As it has many advantages (is colourblind-friendly by default, takes less code to carry out functions)\n",
    "try and replicate what you did in #5 in seaborn!\n",
    "'''"
   ]
  },
  {
   "cell_type": "code",
   "execution_count": null,
   "metadata": {},
   "outputs": [],
   "source": [
    "# 7 (Advanced)\n",
    "'''\n",
    "How about some simple data analysis? \n",
    "The plot looks mostly random, but there's a lot of variance in the beginning \n",
    "and less as the x axis progresses.\n",
    "Let's correlate the Values with Date \n",
    "(That won't be too easy, as Date is in Datetime format, and the Index is inverted with regards to date)\n",
    "Try to plot Date (or an equivalent) on the X and Values on the Y axis as a linear model (sns.lmplot)\n",
    "and compute the correlation of the two.\n",
    "'''"
   ]
  },
  {
   "cell_type": "code",
   "execution_count": null,
   "metadata": {},
   "outputs": [],
   "source": [
    "# 8 (Advanced)\n",
    "'''\n",
    "Let's get into some useful slicing operations.\n",
    "a. get the value 7 from the array\n",
    "b. get the values [0,3,6] from the array\n",
    "c. get the values [0,4,8] from the array\n",
    "\n",
    "'''\n",
    "arr = np.arange(0,9).reshape(3,3)"
   ]
  },
  {
   "cell_type": "markdown",
   "metadata": {
    "id": "Xdmsn6998sXu"
   },
   "source": [
    "# **Resources**\n",
    "\n",
    "### Working with Notebooks in Colab\n",
    "- [Colaboratory Overview](/notebooks/basic_features_overview.ipynb)\n",
    "- [Guide to Markdown](/notebooks/markdown_guide.ipynb)\n",
    "- [Import and install libraries](/notebooks/snippets/importing_libraries.ipynb)\n",
    "- [Saving and Loading Notebooks in Github](https://colab.research.google.com/github/googlecolab/colabtools/blob/master/notebooks/colab-github-demo.ipynb)\n",
    "\n",
    "<a name=\"working-with-data\"></a>\n",
    "### Working with data\n",
    "- [Loading data: Drive, Tables and Google Cloud Storage](/notebooks/io.ipynb) \n",
    "- [Diagrams: Data visualization](/notebooks/charts.ipynb)\n",
    "\n",
    "### Machine Learning Crash Course\n",
    "Here are some notebook examples from Google's machine learning crash course. Weitere Informationen finden Sie auf der <a href=\"https://developers.google.com/machine-learning/crash-course/\">Full course website</a>.\n",
    "- [Introduction to Pandas DataFrame](https://colab.research.google.com/github/google/eng-edu/blob/main/ml/cc/exercises/pandas_dataframe_ultraquick_tutorial.ipynb)\n",
    "- [Lineare Regression with tf.keras and synthetic Data](https://colab.research.google.com/github/google/eng-edu/blob/main/ml/cc/exercises/linear_regression_with_synthetic_data.ipynb)\n"
   ]
  },
  {
   "cell_type": "markdown",
   "metadata": {
    "id": "-rDg5AEn4qBj"
   },
   "source": [
    "# **Solutions**\n",
    "\n",
    "Please note that there are very likely a great many of opportunities to achieve one and the same results. Solution sketches here simply serve as an example."
   ]
  },
  {
   "cell_type": "code",
   "execution_count": null,
   "metadata": {
    "id": "m0hzbWso4yUv"
   },
   "outputs": [],
   "source": [
    "# 1\n",
    "lista = [\n",
    "         1, 3, \"Hey\", \"Did you\", 5, {}, \"know that\", \"we are going\", 7.6, list(), \"to some bars after this?\",\n",
    "         ]\n",
    "\n",
    "new_l = []\n",
    "for i in range(0, len(lista)):  # you can of course adapt the range already\n",
    "  it = lista[i]\n",
    "  if isinstance(it, str) and (i+1) % 2 == 0:\n",
    "    new_l.append(it)\n",
    "\n",
    "\n",
    "\n",
    "# a list comprehension one-liner with adapted range\n",
    "new_l2 = [lista[i] for i in range(1, len(lista), 2) if isinstance(lista[i], str)]\n",
    "new_l2"
   ]
  },
  {
   "cell_type": "code",
   "execution_count": null,
   "metadata": {
    "id": "TWLSxSHIkZV3"
   },
   "outputs": [],
   "source": [
    "# 2a\n",
    "import pandas as pd\n",
    "\n",
    "# with a dictionary, you are already good to go! No need for the separate names\n",
    "df = pd.DataFrame(sample_data)\n",
    "df"
   ]
  },
  {
   "cell_type": "code",
   "execution_count": null,
   "metadata": {
    "id": "IAZ-k2gKkz_J"
   },
   "outputs": [],
   "source": [
    "# 2b\n",
    "\n",
    "df.loc[2][\"Name\"] = \"Sara\"\n",
    "df"
   ]
  },
  {
   "cell_type": "code",
   "execution_count": null,
   "metadata": {},
   "outputs": [],
   "source": [
    "# 2c\n",
    "\n",
    "df[\"age\"] = [20, 24, 23, 6, 30, 80]\n",
    "df"
   ]
  },
  {
   "cell_type": "code",
   "execution_count": null,
   "metadata": {},
   "outputs": [],
   "source": [
    "# 3a\n",
    "arr = np.arange(1,10)\n",
    "arr"
   ]
  },
  {
   "cell_type": "code",
   "execution_count": null,
   "metadata": {},
   "outputs": [],
   "source": [
    "# 3b\n",
    "arr = arr.reshape(3,3)\n",
    "arr"
   ]
  },
  {
   "cell_type": "code",
   "execution_count": null,
   "metadata": {},
   "outputs": [],
   "source": [
    "# 3c (Advanced)\n",
    "# What we observer here is called broadcasting, applying one vector to every row of a matrix. \n",
    "arr += vec\n",
    "arr"
   ]
  },
  {
   "cell_type": "code",
   "execution_count": null,
   "metadata": {
    "id": "sESLEPntpO8g"
   },
   "outputs": [],
   "source": [
    "# 4\n",
    "\n",
    "def date_printer(date_str):\n",
    "  print(f\"Today is the {date_str}!\")\n",
    "\n",
    "date_printer(\"01.01.2100\")"
   ]
  },
  {
   "cell_type": "code",
   "execution_count": null,
   "metadata": {
    "id": "KF_gb-J6vi_3"
   },
   "outputs": [],
   "source": [
    "# 5\n",
    "\n",
    "import matplotlib.pyplot as plt\n",
    "data = {\n",
    "    \"Date\": date_list,\n",
    "    \"Values\": [randrange(i) for i in range(1, 201)]\n",
    "}\n",
    "\n",
    "df = pd.DataFrame(data)\n",
    "df[\"Date\"] = pd.to_datetime(df.Date)\n",
    "plt.plot(df[\"Date\"], df[\"Values\"])  \n",
    "# note that plotting can be done soooooooo much more sophisticatedly. We will cover some over the course!"
   ]
  },
  {
   "cell_type": "code",
   "execution_count": null,
   "metadata": {},
   "outputs": [],
   "source": [
    "# 6\n",
    "import seaborn as sns\n",
    "sns.lineplot(data=df, x=df.Date , y=df.Values)"
   ]
  },
  {
   "cell_type": "code",
   "execution_count": null,
   "metadata": {},
   "outputs": [],
   "source": [
    "# 7\n",
    "data = pd.DataFrame(df)\n",
    "data[\"Index\"]= (data.index)\n",
    "print(data.corr())\n",
    "\n",
    "df.Index = df.Index.values[::-1]\n",
    "\n",
    "import seaborn as sns\n",
    "sns.lmplot(x ='Index', y ='Values', data = df)"
   ]
  },
  {
   "cell_type": "code",
   "execution_count": null,
   "metadata": {},
   "outputs": [],
   "source": [
    "# 8 (Advanced)\n",
    "arr = np.arange(0,9).reshape(3,3)\n",
    "# a\n",
    "print(arr[2][1])\n",
    "\n",
    "#b \n",
    "print(arr[:, 0])\n",
    "\n",
    "#c \n",
    "print(np.diag(arr))"
   ]
  },
  {
   "cell_type": "code",
   "execution_count": null,
   "metadata": {},
   "outputs": [],
   "source": []
  }
 ],
 "metadata": {
  "colab": {
   "authorship_tag": "ABX9TyOwyQMVTkMqgcTmF/vF29yT",
   "collapsed_sections": [
    "Xdmsn6998sXu"
   ],
   "include_colab_link": true,
   "name": "Python_Introduction.ipynb",
   "provenance": [],
   "toc_visible": true
  },
  "kernelspec": {
   "display_name": "Python 3 (ipykernel)",
   "language": "python",
   "name": "python3"
  },
  "language_info": {
   "codemirror_mode": {
    "name": "ipython",
    "version": 3
   },
   "file_extension": ".py",
   "mimetype": "text/x-python",
   "name": "python",
   "nbconvert_exporter": "python",
   "pygments_lexer": "ipython3",
   "version": "3.10.6"
  }
 },
 "nbformat": 4,
 "nbformat_minor": 1
}
